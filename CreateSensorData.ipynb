{
 "cells": [
  {
   "cell_type": "code",
   "execution_count": 1,
   "metadata": {},
   "outputs": [],
   "source": [
    "%config IPCompleter.greedy=True\n",
    "import pandas as pd\n",
    "from datetime import datetime\n",
    "\n",
    "from sqlalchemy import create_engine\n",
    "from sqlalchemy_utils import database_exists, create_database\n",
    "\n",
    "\n",
    "\n",
    "import numpy as np\n",
    "import matplotlib.pyplot as plt\n",
    "\n",
    "%matplotlib inline"
   ]
  },
  {
   "cell_type": "markdown",
   "metadata": {},
   "source": [
    "## Define parameters:"
   ]
  },
  {
   "cell_type": "code",
   "execution_count": 2,
   "metadata": {},
   "outputs": [],
   "source": [
    "startTime = '2019-08-01 00:00'\n",
    "resolution = 15 #min\n",
    "sensorCount = 10\n",
    "datapointCount = 96\n"
   ]
  },
  {
   "cell_type": "markdown",
   "metadata": {},
   "source": [
    "## Create Table with data"
   ]
  },
  {
   "cell_type": "code",
   "execution_count": 3,
   "metadata": {},
   "outputs": [
    {
     "data": {
      "text/html": [
       "<div>\n",
       "<style scoped>\n",
       "    .dataframe tbody tr th:only-of-type {\n",
       "        vertical-align: middle;\n",
       "    }\n",
       "\n",
       "    .dataframe tbody tr th {\n",
       "        vertical-align: top;\n",
       "    }\n",
       "\n",
       "    .dataframe thead th {\n",
       "        text-align: right;\n",
       "    }\n",
       "</style>\n",
       "<table border=\"1\" class=\"dataframe\">\n",
       "  <thead>\n",
       "    <tr style=\"text-align: right;\">\n",
       "      <th></th>\n",
       "      <th>sensorID</th>\n",
       "      <th>time</th>\n",
       "      <th>value</th>\n",
       "    </tr>\n",
       "  </thead>\n",
       "  <tbody>\n",
       "    <tr>\n",
       "      <th>0</th>\n",
       "      <td>S0</td>\n",
       "      <td>2019-08-01</td>\n",
       "      <td>54.881350</td>\n",
       "    </tr>\n",
       "    <tr>\n",
       "      <th>1</th>\n",
       "      <td>S1</td>\n",
       "      <td>2019-08-01</td>\n",
       "      <td>71.518937</td>\n",
       "    </tr>\n",
       "    <tr>\n",
       "      <th>2</th>\n",
       "      <td>S2</td>\n",
       "      <td>2019-08-01</td>\n",
       "      <td>60.276338</td>\n",
       "    </tr>\n",
       "    <tr>\n",
       "      <th>3</th>\n",
       "      <td>S3</td>\n",
       "      <td>2019-08-01</td>\n",
       "      <td>54.488318</td>\n",
       "    </tr>\n",
       "    <tr>\n",
       "      <th>4</th>\n",
       "      <td>S4</td>\n",
       "      <td>2019-08-01</td>\n",
       "      <td>42.365480</td>\n",
       "    </tr>\n",
       "    <tr>\n",
       "      <th>5</th>\n",
       "      <td>S5</td>\n",
       "      <td>2019-08-01</td>\n",
       "      <td>64.589411</td>\n",
       "    </tr>\n",
       "    <tr>\n",
       "      <th>6</th>\n",
       "      <td>S6</td>\n",
       "      <td>2019-08-01</td>\n",
       "      <td>43.758721</td>\n",
       "    </tr>\n",
       "    <tr>\n",
       "      <th>7</th>\n",
       "      <td>S7</td>\n",
       "      <td>2019-08-01</td>\n",
       "      <td>89.177300</td>\n",
       "    </tr>\n",
       "    <tr>\n",
       "      <th>8</th>\n",
       "      <td>S8</td>\n",
       "      <td>2019-08-01</td>\n",
       "      <td>96.366276</td>\n",
       "    </tr>\n",
       "    <tr>\n",
       "      <th>9</th>\n",
       "      <td>S9</td>\n",
       "      <td>2019-08-01</td>\n",
       "      <td>38.344152</td>\n",
       "    </tr>\n",
       "  </tbody>\n",
       "</table>\n",
       "</div>"
      ],
      "text/plain": [
       "  sensorID       time      value\n",
       "0       S0 2019-08-01  54.881350\n",
       "1       S1 2019-08-01  71.518937\n",
       "2       S2 2019-08-01  60.276338\n",
       "3       S3 2019-08-01  54.488318\n",
       "4       S4 2019-08-01  42.365480\n",
       "5       S5 2019-08-01  64.589411\n",
       "6       S6 2019-08-01  43.758721\n",
       "7       S7 2019-08-01  89.177300\n",
       "8       S8 2019-08-01  96.366276\n",
       "9       S9 2019-08-01  38.344152"
      ]
     },
     "execution_count": 3,
     "metadata": {},
     "output_type": "execute_result"
    }
   ],
   "source": [
    "#Timestamp column\n",
    "timestamps=pd.date_range(pd.to_datetime(startTime), periods=datapointCount, freq=str(resolution)+'min')\n",
    "timestamps=np.repeat(timestamps.values,sensorCount,axis=0)\n",
    "\n",
    "#Sensor ID column\n",
    "sensorIds=[\"S\"+str(x) for x in range(sensorCount)]\n",
    "sensorIdColumns=sensorIds*datapointCount\n",
    "\n",
    "#sensor data column - float values between 0 and 100\n",
    "np.random.seed(0)\n",
    "randomData=np.random.rand(datapointCount*sensorCount,1)*100\n",
    "    \n",
    "data={'sensorID':sensorIdColumns,'time':timestamps, 'value':randomData.flatten()}\n",
    "dataTable=pd.DataFrame(data)\n",
    "\n",
    "dataTable.head(10)"
   ]
  },
  {
   "cell_type": "markdown",
   "metadata": {},
   "source": [
    "## Write to Database"
   ]
  },
  {
   "cell_type": "code",
   "execution_count": 4,
   "metadata": {},
   "outputs": [],
   "source": [
    "user='postgres'\n",
    "passw='docker'\n",
    "host='localhost'\n",
    "port='5432'\n",
    "db='Sensors'"
   ]
  },
  {
   "cell_type": "markdown",
   "metadata": {},
   "source": [
    "Connect to database"
   ]
  },
  {
   "cell_type": "code",
   "execution_count": 6,
   "metadata": {},
   "outputs": [
    {
     "name": "stdout",
     "output_type": "stream",
     "text": [
      "Write data to database ...\n",
      "done!\n"
     ]
    }
   ],
   "source": [
    "print(\"Write data to database ...\")\n",
    "engine=create_engine('postgresql://'+user+':'+passw+'@'+host+':'+port+'/'+db)\n",
    "\n",
    "if not database_exists(engine.url):\n",
    "    create_database(engine.url)\n",
    "\n",
    "dataTable.to_sql('SensorData',engine,if_exists='replace')\n",
    "print(\"done!\")"
   ]
  },
  {
   "cell_type": "markdown",
   "metadata": {},
   "source": [
    "## Create individuals for ontology in RDF"
   ]
  },
  {
   "cell_type": "code",
   "execution_count": 7,
   "metadata": {},
   "outputs": [
    {
     "name": "stdout",
     "output_type": "stream",
     "text": [
      "Sensor: ['S0', 'S1', 'S2', 'S3', 'S4', 'S5', 'S6', 'S7', 'S8', 'S9']\n"
     ]
    }
   ],
   "source": [
    "resolution\n",
    "sensorCount \n",
    "datapointCount\n",
    "outputFileName='outputRDF_Res'+str(resolution)+'_Sens'+ str(sensorCount)+'_DP'+str(datapointCount)+'.ttl'\n",
    "\n",
    "from rdflib import BNode, Graph, URIRef, Literal, Namespace, RDF\n",
    "sosaNsString='http://www.w3.org/ns/sosa/'\n",
    "sosa = Namespace(sosaNsString)\n",
    "\n",
    "#g=Graph(store='Sleepycat')\n",
    "#g.open('GeneratedTripes',create=True)\n",
    "g=Graph()\n",
    "\n",
    "    \n",
    "\n",
    "print(\"Sensor: \" + str(sensorIds))\n",
    "#add every sensor\n",
    "for s in sensorIds:    \n",
    "    g.add((URIRef(sosaNsString + s), RDF.type, sosa.Sensor)) \n",
    "\n",
    "#add observation for every row in table\n",
    "for index, row in dataTable.iterrows():\n",
    "    #print(index,row[\"sensorID\"],row[\"time\"],row[\"value\"])\n",
    "    #Add observation\n",
    "    g.add((URIRef(sosaNsString + \"Observation_\" + str(index)), RDF.type, sosa.Observation))\n",
    "    \n",
    "    # add time and result to observation\n",
    "    g.add((URIRef(sosaNsString + \"Observation_\" + str(index)), sosa.resultTime, Literal(row['time'])))\n",
    "    g.add((URIRef(sosaNsString + \"Observation_\" + str(index)), sosa.hasSimpleResult, Literal(row['value'])))\n",
    "    \n",
    "    # observation madeBySensor sensor\n",
    "    g.add((URIRef(sosaNsString + \"Observation_\" + str(index)), sosa.madeBySensor, URIRef(sosaNsString + row[\"sensorID\"])))\n",
    "    \n",
    "    # sensor made Observation observation\n",
    "    g.add((URIRef(sosaNsString + row[\"sensorID\"]), sosa.madeObservation ,sosaNsString + URIRef(\"Observation_\" + str(index))))\n",
    "    \n",
    "\n",
    "\n",
    "#print(g.serialize(format='turtle'))\n",
    "\n",
    "g.serialize(destination=outputFileName, format='turtle')\n",
    "g.close()"
   ]
  },
  {
   "cell_type": "markdown",
   "metadata": {},
   "source": [
    "## Create Mapping File"
   ]
  },
  {
   "cell_type": "code",
   "execution_count": 5,
   "metadata": {},
   "outputs": [],
   "source": [
    "outputFileName='Mapping_Res'+str(resolution)+'_Sens'+ str(sensorCount)+'_DP'+str(datapointCount)+'.ttl'\n",
    "\n",
    "from rdflib import BNode, Graph, URIRef, Literal, Namespace, RDF\n",
    "\n",
    "sosaNsString='http://www.w3.org/ns/sosa/'\n",
    "sosa = Namespace(sosaNsString)\n",
    "mappingString ='http://sic.auto.tuwien.ac.at/mappings#'\n",
    "mapping =Namespace(mappingString)\n",
    "\n",
    "#g=Graph(store='Sleepycat')\n",
    "#g.open('GeneratedTripes',create=True)\n",
    "g=Graph()\n",
    "\n",
    "g.add((URIRef(mappingString+\"Connection1\"), mapping.url, Literal(\"localhost:5432\")))\n",
    "g.add((URIRef(mappingString+\"Connection1\"), mapping.db, Literal(\"Sensors\")))\n",
    "g.add((URIRef(mappingString+\"Connection1\"), mapping.user, Literal(\"postgres\")))     \n",
    "g.add((URIRef(mappingString+\"Connection1\"), mapping.passw, Literal(\"docker\")))\n",
    "      \n",
    "for s in sensorIds:    \n",
    "    sqlString=\"Select \\\"time\\\", \\\"value\\\" FROM \\\"SensorData\\\" WHERE (\\\"sensorID\\\" = '\"+ s +\"') ORDER BY \\\"time\\\" DESC \"\n",
    "    g.add((URIRef(sosaNsString + s), mapping.hasMapping, URIRef(mappingString + \"Mapping\"+s)))\n",
    "    g.add((URIRef(mappingString + \"Mapping\"+s), mapping.hasDBConnection, URIRef(mappingString+\"Connection1\")))\n",
    "    g.add((URIRef(mappingString + \"Mapping\"+s), mapping.hasSQLString, Literal(sqlString)))\n",
    "\n",
    "g.serialize(destination=outputFileName, format='turtle')\n",
    "g.close()"
   ]
  },
  {
   "cell_type": "markdown",
   "metadata": {},
   "source": [
    "## Test Jena Fuseki"
   ]
  },
  {
   "cell_type": "code",
   "execution_count": 14,
   "metadata": {},
   "outputs": [
    {
     "name": "stdout",
     "output_type": "stream",
     "text": [
      "2.575029134750366\n",
      "1.5109972953796387\n",
      "2.448993682861328\n",
      "0.9150176048278809\n",
      "2.2129952907562256\n"
     ]
    }
   ],
   "source": [
    "import time\n",
    "import requests\n",
    "import json\n",
    "from datetime import datetime\n",
    "\n",
    "\n",
    "writeFile=\"results.txt\"\n",
    "\n",
    "filePath=\"./SPARQL Queries/\"\n",
    "#queries=[\"Q1_obda\",\"Q2_obda\",\"Q3_obda\",\"Q4_obda\",\"Q5_obda\"]\n",
    "queries=[\"Q1\",\"Q2\",\"Q3\",\"Q4\",\"Q5\"]\n",
    "\n",
    "logTime=datetime.now().strftime('%Y-%m-%d %H:%M:%S')\n",
    "logString= \"\\n\"+logTime + \" - Res: \" +str(resolution) + \", Sensors: \"+ str(sensorCount) +\", points/sensor: \"+ str(datapointCount)+\"\\n\"\n",
    "f=open(writeFile,\"a+\")\n",
    "f.write(logString)\n",
    "f.write(\"------------------\\n\")\n",
    "f.close()\n",
    "\n",
    "for q in queries:\n",
    "    currentFilePath=filePath+q+\".txt\"\n",
    "    f= open(currentFilePath,\"r\")\n",
    "    testQuery= f.read()\n",
    "    f.close()\n",
    "     \n",
    "    start=time.time()\n",
    "    response = requests.post('http://127.0.0.1:3030/ds', data={'query': testQuery})\n",
    "    end=time.time()\n",
    "    dtime=end-start\n",
    "    print(dtime)\n",
    "    data = response.json()\n",
    "    dataCount= len(data['results']['bindings'])\n",
    "    logTime=datetime.now().strftime('%Y-%m-%d %H:%M:%S')\n",
    "    logString=logTime + \" - \"+q+\" - \"+str(dataCount) +\" - \" +str(len(response.content))+ \" Byte\" \n",
    "    \n",
    "    f=open(writeFile,\"a+\")\n",
    "   \n",
    "    if( dataCount > 0):\n",
    "        f.write(logString  + \" - Execution Time \" +str(dtime))\n",
    "    else:\n",
    "        f.write(logString +\" - failed Response\")\n",
    "                \n",
    "    f.write(\"\\n\")\n",
    "    f.close() \n",
    "    \n",
    "   \n",
    "   "
   ]
  },
  {
   "cell_type": "markdown",
   "metadata": {},
   "source": [
    "## Get File Size"
   ]
  },
  {
   "cell_type": "code",
   "execution_count": 6,
   "metadata": {},
   "outputs": [
    {
     "name": "stdout",
     "output_type": "stream",
     "text": [
      "0\n"
     ]
    }
   ],
   "source": [
    "import os\n",
    "\n",
    "filename= \"./apache-jena-fuseki-3.12.0/run/databases/ds\"\n",
    "\n",
    "#os.path.getsize(./apache-jena-fuseki-3.12.0/fuseki-server-startWithOBDA.bat')\n",
    "\n",
    "\n",
    "def get_size(start_path = '.'):\n",
    "    total_size = 0\n",
    "    for dirpath, dirnames, filenames in os.walk(start_path):\n",
    "        for f in filenames:\n",
    "            fp = os.path.join(dirpath, f)\n",
    "            # skip if it is symbolic link\n",
    "            if not os.path.islink(fp):\n",
    "                total_size += os.path.getsize(fp)\n",
    "    return total_size\n",
    "\n",
    "print(get_size(filename))"
   ]
  },
  {
   "cell_type": "markdown",
   "metadata": {},
   "source": [
    "## Start Fuseki\n"
   ]
  },
  {
   "cell_type": "code",
   "execution_count": 2,
   "metadata": {},
   "outputs": [
    {
     "name": "stdout",
     "output_type": "stream",
     "text": [
      "waiting 5 seconds...\n",
      "kill process\n",
      "0\n"
     ]
    }
   ],
   "source": [
    "import os\n",
    "import subprocess\n",
    "import time\n",
    "import sys\n",
    "\n",
    "def runMyFile():\n",
    "   # try:\n",
    "    os.startfile('C:/Users/guser/Documents/CustomPropertyODBA/apache-jena-fuseki-3.12.0/fuseki-server-startWithOBDA.bat')\n",
    "\n",
    "cmd=\"start C:/Users/guser/Documents/CustomPropertyODBA/apache-jena-fuseki-3.12.0/fuseki-server-startWithOBDA.bat\"\n",
    "wd=\"C:/Users/guser/Documents/CustomPropertyODBA/apache-jena-fuseki-3.12.0\"\n",
    "p = subprocess.Popen(cmd, shell=True, stdout = subprocess.PIPE, cwd=wd)\n",
    "\n",
    "\n",
    "print(\"waiting 5 seconds...\")\n",
    "time.sleep(5)\n",
    "print(\"kill process\")\n",
    "p.terminate()\n",
    "print(p.returncode) # is 0 if success\n",
    "#subprocess.call([r'C:/Users/guser/Documents/CustomPropertyODBA/apache-jena-fuseki-3.12.0/fuseki-server-startWithOBDA.bat'])"
   ]
  },
  {
   "cell_type": "code",
   "execution_count": 2,
   "metadata": {},
   "outputs": [
    {
     "data": {
      "text/plain": [
       "0"
      ]
     },
     "execution_count": 2,
     "metadata": {},
     "output_type": "execute_result"
    }
   ],
   "source": [
    "import os\n",
    "\n",
    "directory=\"C:/Users/guser/Documents/CustomPropertyODBA/apache-jena-fuseki-3.12.0/\"\n",
    "cmd=\"start \\\"Fuseki\\\" fuseki-server-startWithOBDA.bat\"\n",
    "\n",
    "wd=os.getcwd()\n",
    "os.chdir(directory)\n",
    "os.system(cmd)\n"
   ]
  },
  {
   "cell_type": "markdown",
   "metadata": {},
   "source": [
    "## Delete and create dataset in fuseki"
   ]
  },
  {
   "cell_type": "code",
   "execution_count": 38,
   "metadata": {},
   "outputs": [
    {
     "name": "stdout",
     "output_type": "stream",
     "text": [
      "<Response [404]>\n"
     ]
    }
   ],
   "source": [
    "#delete database\n",
    "response = requests.delete('http://127.0.0.1:3030/$/datasets/ds2')\n",
    "#/$/datasets/*{name}*\n",
    "print(response)"
   ]
  },
  {
   "cell_type": "code",
   "execution_count": 41,
   "metadata": {},
   "outputs": [
    {
     "name": "stdout",
     "output_type": "stream",
     "text": [
      "<Response [200]>\n"
     ]
    }
   ],
   "source": [
    "payload = {'dbType': 'tdb', 'dbName': 'ds2'}\n",
    "headers = {'Content-Type': 'text/turtle;charset=utf-8'}\n",
    "r = requests.post('http://localhost:3030/$/datasets', headers=headers, params=payload)\n",
    "print(r)\n"
   ]
  },
  {
   "cell_type": "code",
   "execution_count": 42,
   "metadata": {},
   "outputs": [
    {
     "name": "stdout",
     "output_type": "stream",
     "text": [
      "<Response [200]>\n"
     ]
    }
   ],
   "source": [
    "data = open('sosa.ttl').read()\n",
    "r = requests.post('http://localhost:3030/ds2/data', data=data, headers=headers,)\n",
    "print(r)\n"
   ]
  },
  {
   "cell_type": "code",
   "execution_count": 16,
   "metadata": {},
   "outputs": [
    {
     "data": {
      "text/plain": [
       "<Response [405]>"
      ]
     },
     "execution_count": 16,
     "metadata": {},
     "output_type": "execute_result"
    }
   ],
   "source": [
    "response"
   ]
  }
 ],
 "metadata": {
  "kernelspec": {
   "display_name": "Python 3",
   "language": "python",
   "name": "python3"
  },
  "language_info": {
   "codemirror_mode": {
    "name": "ipython",
    "version": 3
   },
   "file_extension": ".py",
   "mimetype": "text/x-python",
   "name": "python",
   "nbconvert_exporter": "python",
   "pygments_lexer": "ipython3",
   "version": "3.7.3"
  }
 },
 "nbformat": 4,
 "nbformat_minor": 2
}
